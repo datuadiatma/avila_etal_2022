{
 "cells": [
  {
   "cell_type": "code",
   "execution_count": 2,
   "metadata": {},
   "outputs": [],
   "source": [
    "import numpy as np\n",
    "import pandas as pd\n",
    "import matplotlib.pyplot as plt\n",
    "\n",
    "%matplotlib inline"
   ]
  },
  {
   "cell_type": "code",
   "execution_count": 3,
   "metadata": {},
   "outputs": [
    {
     "data": {
      "text/html": [
       "<div>\n",
       "<style scoped>\n",
       "    .dataframe tbody tr th:only-of-type {\n",
       "        vertical-align: middle;\n",
       "    }\n",
       "\n",
       "    .dataframe tbody tr th {\n",
       "        vertical-align: top;\n",
       "    }\n",
       "\n",
       "    .dataframe thead th {\n",
       "        text-align: right;\n",
       "    }\n",
       "</style>\n",
       "<table border=\"1\" class=\"dataframe\">\n",
       "  <thead>\n",
       "    <tr style=\"text-align: right;\">\n",
       "      <th></th>\n",
       "      <th>meter</th>\n",
       "      <th>age</th>\n",
       "    </tr>\n",
       "  </thead>\n",
       "  <tbody>\n",
       "    <tr>\n",
       "      <th>0</th>\n",
       "      <td>128.510638</td>\n",
       "      <td>442.246392</td>\n",
       "    </tr>\n",
       "    <tr>\n",
       "      <th>1</th>\n",
       "      <td>134.042553</td>\n",
       "      <td>443.042098</td>\n",
       "    </tr>\n",
       "    <tr>\n",
       "      <th>2</th>\n",
       "      <td>136.012608</td>\n",
       "      <td>443.486640</td>\n",
       "    </tr>\n",
       "    <tr>\n",
       "      <th>3</th>\n",
       "      <td>141.430260</td>\n",
       "      <td>443.907425</td>\n",
       "    </tr>\n",
       "    <tr>\n",
       "      <th>4</th>\n",
       "      <td>146.355398</td>\n",
       "      <td>444.281445</td>\n",
       "    </tr>\n",
       "    <tr>\n",
       "      <th>5</th>\n",
       "      <td>152.758077</td>\n",
       "      <td>444.678723</td>\n",
       "    </tr>\n",
       "    <tr>\n",
       "      <th>6</th>\n",
       "      <td>157.683215</td>\n",
       "      <td>444.959114</td>\n",
       "    </tr>\n",
       "    <tr>\n",
       "      <th>7</th>\n",
       "      <td>162.608353</td>\n",
       "      <td>445.216097</td>\n",
       "    </tr>\n",
       "    <tr>\n",
       "      <th>8</th>\n",
       "      <td>167.040977</td>\n",
       "      <td>445.519945</td>\n",
       "    </tr>\n",
       "    <tr>\n",
       "      <th>9</th>\n",
       "      <td>172.951143</td>\n",
       "      <td>445.964088</td>\n",
       "    </tr>\n",
       "  </tbody>\n",
       "</table>\n",
       "</div>"
      ],
      "text/plain": [
       "        meter         age\n",
       "0  128.510638  442.246392\n",
       "1  134.042553  443.042098\n",
       "2  136.012608  443.486640\n",
       "3  141.430260  443.907425\n",
       "4  146.355398  444.281445\n",
       "5  152.758077  444.678723\n",
       "6  157.683215  444.959114\n",
       "7  162.608353  445.216097\n",
       "8  167.040977  445.519945\n",
       "9  172.951143  445.964088"
      ]
     },
     "execution_count": 3,
     "metadata": {},
     "output_type": "execute_result"
    }
   ],
   "source": [
    "sl = pd.read_csv('../Data/digitize Haq/longterm_SL.csv')\n",
    "sl.head(10)"
   ]
  },
  {
   "cell_type": "code",
   "execution_count": 4,
   "metadata": {},
   "outputs": [
    {
     "data": {
      "text/plain": [
       "<matplotlib.axes._subplots.AxesSubplot at 0x1c21c2797f0>"
      ]
     },
     "execution_count": 4,
     "metadata": {},
     "output_type": "execute_result"
    },
    {
     "data": {
      "image/png": "[encoded data removed]",
      "text/plain": [
       "<Figure size 432x288 with 1 Axes>"
      ]
     },
     "metadata": {
      "needs_background": "light"
     },
     "output_type": "display_data"
    }
   ],
   "source": [
    "sl.plot(x='meter', y='age', kind='line')"
   ]
  },
  {
   "cell_type": "code",
   "execution_count": 5,
   "metadata": {},
   "outputs": [
    {
     "data": {
      "text/plain": [
       "<matplotlib.collections.PathCollection at 0x1c21ec85ca0>"
      ]
     },
     "execution_count": 5,
     "metadata": {},
     "output_type": "execute_result"
    },
    {
     "data": {
      "image/png": "[encoded data removed]",
      "text/plain": [
       "<Figure size 720x144 with 1 Axes>"
      ]
     },
     "metadata": {
      "needs_background": "light"
     },
     "output_type": "display_data"
    }
   ],
   "source": [
    "import statsmodels.api as sm\n",
    "lowess = sm.nonparametric.lowess\n",
    "\n",
    "slloess = lowess(sl['meter'], sl['age'], frac=0.1)\n",
    "plt.figure(figsize=(10,2))\n",
    "plt.plot(slloess[:,0], slloess[:,1])\n",
    "plt.scatter(sl['age'], sl['meter'])"
   ]
  },
  {
   "cell_type": "code",
   "execution_count": 14,
   "metadata": {},
   "outputs": [
    {
     "data": {
      "text/plain": [
       "<matplotlib.collections.PathCollection at 0x1c21ee98b80>"
      ]
     },
     "execution_count": 14,
     "metadata": {},
     "output_type": "execute_result"
    },
    {
     "data": {
      "image/png": "[encoded data removed]",
      "text/plain": [
       "<Figure size 432x288 with 1 Axes>"
      ]
     },
     "metadata": {
      "needs_background": "light"
     },
     "output_type": "display_data"
    }
   ],
   "source": [
    "from scipy import interpolate\n",
    "\n",
    "f = interpolate.interp1d(slloess[:,0], slloess[:,1])\n",
    "\n",
    "t = np.arange(443, 488, 0.5)\n",
    "\n",
    "tsl = np.round(f(t),1)\n",
    "plt.plot(t, tsl, 'r')\n",
    "plt.scatter(sl['age'], sl['meter'])"
   ]
  },
  {
   "cell_type": "code",
   "execution_count": 10,
   "metadata": {},
   "outputs": [
    {
     "data": {
      "text/plain": [
       "array([443. , 443.5, 444. , 444.5, 445. , 445.5, 446. , 446.5, 447. ,\n",
       "       447.5, 448. , 448.5, 449. , 449.5, 450. , 450.5, 451. , 451.5,\n",
       "       452. , 452.5, 453. , 453.5, 454. , 454.5, 455. , 455.5, 456. ,\n",
       "       456.5, 457. , 457.5, 458. , 458.5, 459. , 459.5, 460. , 460.5,\n",
       "       461. , 461.5, 462. , 462.5, 463. , 463.5, 464. , 464.5, 465. ,\n",
       "       465.5, 466. , 466.5, 467. , 467.5, 468. , 468.5, 469. , 469.5,\n",
       "       470. , 470.5, 471. , 471.5, 472. , 472.5, 473. , 473.5, 474. ,\n",
       "       474.5, 475. , 475.5, 476. , 476.5, 477. , 477.5, 478. , 478.5,\n",
       "       479. , 479.5, 480. , 480.5, 481. , 481.5, 482. , 482.5, 483. ,\n",
       "       483.5, 484. , 484.5, 485. , 485.5, 486. , 486.5, 487. , 487.5])"
      ]
     },
     "execution_count": 10,
     "metadata": {},
     "output_type": "execute_result"
    }
   ],
   "source": [
    "t"
   ]
  },
  {
   "cell_type": "code",
   "execution_count": 11,
   "metadata": {},
   "outputs": [
    {
     "data": {
      "text/plain": [
       "array([134.2, 138.2, 143.5, 150.3, 158.4, 166.5, 174.6, 182.6, 189.8,\n",
       "       195.9, 200.8, 204.8, 208. , 210.9, 213.1, 215.2, 217. , 218.4,\n",
       "       219.7, 220.8, 221.9, 222.8, 223.8, 224.4, 225. , 225.4, 225.6,\n",
       "       225.4, 225.2, 224.4, 223. , 221.2, 218.8, 215.7, 211.8, 207.6,\n",
       "       202.6, 197.4, 192.2, 187.6, 185.3, 183.7, 182.3, 181.2, 180.7,\n",
       "       180.4, 180.4, 180.4, 180.5, 180.6, 180.8, 181.2, 181.9, 182.6,\n",
       "       183.3, 184.2, 184.9, 185.6, 186.1, 186.4, 186.5, 186.5, 186.4,\n",
       "       186.3, 186.2, 186. , 185.7, 185.4, 184.9, 184.3, 183.5, 182.5,\n",
       "       181.2, 179.8, 178.2, 176.7, 175.2, 173.7, 172.1, 170.6, 169.2,\n",
       "       167.7, 166.3, 164.8, 163.3, 161.6, 159.8, 157.6, 155.2, 152.8])"
      ]
     },
     "execution_count": 11,
     "metadata": {},
     "output_type": "execute_result"
    }
   ],
   "source": [
    "tsl"
   ]
  },
  {
   "cell_type": "code",
   "execution_count": 12,
   "metadata": {},
   "outputs": [],
   "source": [
    "np.savez('../Data/OrdoSeaLevel.npz', age=t, SeaLevel=tsl)"
   ]
  }
 ],
 "metadata": {
  "kernelspec": {
   "display_name": "Python 3",
   "language": "python",
   "name": "python3"
  },
  "language_info": {
   "codemirror_mode": {
    "name": "ipython",
    "version": 3
   },
   "file_extension": ".py",
   "mimetype": "text/x-python",
   "name": "python",
   "nbconvert_exporter": "python",
   "pygments_lexer": "ipython3",
   "version": "3.8.5"
  }
 },
 "nbformat": 4,
 "nbformat_minor": 4
}
