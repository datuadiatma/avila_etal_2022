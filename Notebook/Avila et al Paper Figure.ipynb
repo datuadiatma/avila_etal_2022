{
 "cells": [
  {
   "cell_type": "markdown",
   "metadata": {},
   "source": [
    "This notebook contains python codes to run strontium isotope box model"
   ]
  },
  {
   "cell_type": "code",
   "execution_count": 11,
   "metadata": {},
   "outputs": [],
   "source": [
    "# import python module\n",
    "import numpy as np\n",
    "import matplotlib.pyplot as plt\n",
    "from matplotlib.patches import Rectangle\n",
    "import pandas as pd"
   ]
  },
  {
   "cell_type": "code",
   "execution_count": 2,
   "metadata": {},
   "outputs": [],
   "source": [
    "# Functions\n",
    "# ---------\n",
    "# Isotopic mass balace equation\n",
    "def simSr(jr, rr, rsw, jh, rh, n):\n",
    "    \"\"\"\n",
    "\n",
    "    Strontium isotopic mass balance.\n",
    "\n",
    "    Parameters\n",
    "    ----------\n",
    "    jr : float\n",
    "        Global riverine flux of Sr\n",
    "    rr : float\n",
    "        Strontium isotopic ratio of global riverine flux.\n",
    "    rsw : float\n",
    "        Strontium isotopic ratio of seawater.\n",
    "    jh : float\n",
    "        Hydrothermal flux of Sr.\n",
    "    rh : float\n",
    "        Strontium isotopic ratio of hydrothermal flux (jh).\n",
    "    n : float\n",
    "        Strontium reservoir size of the ocean.\n",
    "\n",
    "    Returns\n",
    "    -------\n",
    "    rSr : float\n",
    "        Strontium isotopic ratio of seawater.\n",
    "\n",
    "    \"\"\"\n",
    "    rSr = (jr*(rr-rsw) + jh*(rh-rsw)) / n\n",
    "    return rSr\n",
    "\n",
    "# Function to run model\n",
    "def run_sim(nt, dt, age, jr, rr, rsw, jh, rh, n):\n",
    "    \"\"\"\n",
    "    \n",
    "    Solving diff. equations defined in simSr() using the forward Euler method.\n",
    "\n",
    "    Parameters\n",
    "    ----------\n",
    "    nt : int\n",
    "        number of time steps to run model\n",
    "    dt : float\n",
    "        the size of each time step\n",
    "    age : float\n",
    "        age in million years\n",
    "    jr : float\n",
    "        Global riverine flux of Sr\n",
    "    rr : float\n",
    "        Strontium isotopic ratio of global riverine flux.\n",
    "    rsw : float\n",
    "        Strontium isotopic ratio of seawater.\n",
    "    jh : float\n",
    "        Hydrothermal flux of Sr.\n",
    "    rh : float\n",
    "        Strontium isotopic ratio of hydrothermal flux (jh).\n",
    "    n : float\n",
    "        Strontium reservoir size of the ocean.\n",
    "\n",
    "    Returns\n",
    "    -------\n",
    "    rSw : float\n",
    "        Strontium isotopic ratio of seawater.\n",
    "    grad : float\n",
    "          gradient of rSw  \n",
    "        \n",
    "    \"\"\"\n",
    "    rsw0 = (jr[0]*rr[0] + jh[0]*rh[0])/(jr[0]+jh[0])\n",
    "    rsw[0] = rsw0\n",
    "    \n",
    "    for i in range(nt-1):\n",
    "        rsw[i+1] = rsw[i] + simSr(jr[i], rr[i], rsw[i], jh[i], rh[i], n[i])*dt\n",
    "    \n",
    "    grad = np.diff(rsw)/np.diff(age)\n",
    "    grad = np.append(grad, grad[-1])\n",
    "   \n",
    "    return rsw, grad"
   ]
  },
  {
   "cell_type": "markdown",
   "metadata": {},
   "source": [
    "### Define time\n",
    "This block of code creates arrays to run the simulation."
   ]
  },
  {
   "cell_type": "code",
   "execution_count": 3,
   "metadata": {},
   "outputs": [],
   "source": [
    "# Define array of time\n",
    "# --------------------\n",
    "tmin = 487      # ~ base of Ordovician in Ma (GTS2020)\n",
    "tmax = 443      # ~ base of Silurian in Ma (GST2020)\n",
    "nt = 100000     # number of steps\n",
    "dt = (tmin - tmax)*1e6 / nt    # size of each step\n",
    "time = np.linspace(0, (tmin-tmax)*1e6, nt)    # time array\n",
    "age = np.linspace(tmin, tmax, nt)             # age array (in Myr)"
   ]
  },
  {
   "cell_type": "code",
   "execution_count": 4,
   "metadata": {},
   "outputs": [],
   "source": [
    "# Initial values and parameters\n",
    "# -----------------------------\n",
    "# Riverine flux\n",
    "Jriv0 = 3e10\n",
    "Jriv = np.ones(nt) * Jriv0\n",
    "\n",
    "# Riverine isotopic ratio\n",
    "Rriv0 = 0.7111\n",
    "Rriv = np.ones(nt) * Rriv0\n",
    "\n",
    "#Hydrothermal flux\n",
    "Jh0 = 1.25e10\n",
    "Jh = np.ones(nt)*1.05e10\n",
    "\n",
    "# Hydrothermal isotopic ratio\n",
    "Rh0 = 0.7028\n",
    "Rh = np.ones(nt) * Rh0\n",
    "\n",
    "# Array to store isotopic ratio of seawater and rate of change\n",
    "Rsw = np.zeros(nt)\n",
    "GradSr = np.zeros(nt)\n",
    "\n",
    "# Reservoir size\n",
    "N = np.ones(nt) * 1.27e17"
   ]
  },
  {
   "cell_type": "markdown",
   "metadata": {},
   "source": [
    "### Constraining changes in hydrothermal activities using long-term sea-level change\n",
    "\n",
    "In this model we hypothesize a role for hydrothermal activities in perturbing global Sr cycles during the Ordovician. To model changes in hydrothermal activities we used eustatic sea level curves, assuming the long-term changes in sea levels are mainly controlled by changes in ocean basin geometry, which in turn depends on the rate of sea floor spreading.\n",
    "\n",
    "Sea level curves were taken from Haq and Schutter (2008), and recalibrated to Geologic Time Scale 2020 (Goldman et al., 2020)."
   ]
  },
  {
   "cell_type": "code",
   "execution_count": 5,
   "metadata": {},
   "outputs": [],
   "source": [
    "# load sea level data\n",
    "ordosealevel = np.load(\"../Data/OrdoSeaLevel.npz\")['SeaLevel']\n",
    "ordoseaage = np.load(\"../Data/OrdoSeaLevel.npz\")['age']"
   ]
  },
  {
   "cell_type": "code",
   "execution_count": 6,
   "metadata": {},
   "outputs": [
    {
     "name": "stdout",
     "output_type": "stream",
     "text": [
      "array size = 100000\n"
     ]
    },
    {
     "data": {
      "image/png": "[encoded data removed]",
      "text/plain": [
       "<Figure size 432x288 with 1 Axes>"
      ]
     },
     "metadata": {
      "needs_background": "light"
     },
     "output_type": "display_data"
    }
   ],
   "source": [
    "# resample data to fit our modeling array\n",
    "from scipy import interpolate\n",
    "\n",
    "f = interpolate.interp1d(ordoseaage, ordosealevel)\n",
    "\n",
    "sealevel = f(age)\n",
    "plt.plot(age, sealevel)\n",
    "print('array size =',len(sealevel))"
   ]
  },
  {
   "cell_type": "code",
   "execution_count": 7,
   "metadata": {},
   "outputs": [
    {
     "name": "stdout",
     "output_type": "stream",
     "text": [
      "max  : 1.4536080670085052\n",
      "min  : 0.8646907216494846\n",
      "mean : 1.221990718759185\n"
     ]
    },
    {
     "data": {
      "image/png": "[encoded data removed]",
      "text/plain": [
       "<Figure size 432x288 with 1 Axes>"
      ]
     },
     "metadata": {
      "needs_background": "light"
     },
     "output_type": "display_data"
    }
   ],
   "source": [
    "# normalize sea level relative to mean\n",
    "sl_norm = sealevel / sealevel.mean()\n",
    "sl_norm_min = sealevel / sealevel[0]\n",
    "\n",
    "plt.plot(age, sl_norm_min)\n",
    "print('max  :', sl_norm_min.max())\n",
    "print('min  :', sl_norm_min.min())\n",
    "print('mean :', sl_norm_min.mean())"
   ]
  },
  {
   "cell_type": "code",
   "execution_count": 8,
   "metadata": {},
   "outputs": [],
   "source": [
    "Jh_sl = sl_norm * Jh0"
   ]
  },
  {
   "cell_type": "code",
   "execution_count": 9,
   "metadata": {},
   "outputs": [],
   "source": [
    "Rsw_sl = np.zeros(nt)\n",
    "Rsw_sl, GradSr_sl = run_sim(nt, dt, age, Jriv, Rriv, Rsw_sl, Jh_sl, Rh, N)"
   ]
  },
  {
   "cell_type": "markdown",
   "metadata": {},
   "source": [
    "# Final Figure"
   ]
  },
  {
   "cell_type": "code",
   "execution_count": 30,
   "metadata": {},
   "outputs": [
    {
     "data": {
      "text/html": [
       "<div>\n",
       "<style scoped>\n",
       "    .dataframe tbody tr th:only-of-type {\n",
       "        vertical-align: middle;\n",
       "    }\n",
       "\n",
       "    .dataframe tbody tr th {\n",
       "        vertical-align: top;\n",
       "    }\n",
       "\n",
       "    .dataframe thead th {\n",
       "        text-align: right;\n",
       "    }\n",
       "</style>\n",
       "<table border=\"1\" class=\"dataframe\">\n",
       "  <thead>\n",
       "    <tr style=\"text-align: right;\">\n",
       "      <th></th>\n",
       "      <th>label</th>\n",
       "      <th>abbr</th>\n",
       "      <th>mix</th>\n",
       "      <th>top</th>\n",
       "      <th>bottom</th>\n",
       "      <th>color</th>\n",
       "      <th>h</th>\n",
       "    </tr>\n",
       "  </thead>\n",
       "  <tbody>\n",
       "    <tr>\n",
       "      <th>0</th>\n",
       "      <td>Hirnantian</td>\n",
       "      <td>Hir.</td>\n",
       "      <td>Hir.</td>\n",
       "      <td>443.07</td>\n",
       "      <td>445.21</td>\n",
       "      <td>#A6DBAB</td>\n",
       "      <td>2.14</td>\n",
       "    </tr>\n",
       "    <tr>\n",
       "      <th>1</th>\n",
       "      <td>Katian</td>\n",
       "      <td>Kat.</td>\n",
       "      <td>Kat.</td>\n",
       "      <td>445.21</td>\n",
       "      <td>452.75</td>\n",
       "      <td>#99D69F</td>\n",
       "      <td>7.54</td>\n",
       "    </tr>\n",
       "    <tr>\n",
       "      <th>2</th>\n",
       "      <td>Sandbian</td>\n",
       "      <td>Sand.</td>\n",
       "      <td>Sand.</td>\n",
       "      <td>452.75</td>\n",
       "      <td>458.18</td>\n",
       "      <td>#8CD094</td>\n",
       "      <td>5.43</td>\n",
       "    </tr>\n",
       "    <tr>\n",
       "      <th>3</th>\n",
       "      <td>Darriwillian</td>\n",
       "      <td>Darr.</td>\n",
       "      <td>Darriwillian</td>\n",
       "      <td>458.18</td>\n",
       "      <td>469.42</td>\n",
       "      <td>#74C69C</td>\n",
       "      <td>11.24</td>\n",
       "    </tr>\n",
       "    <tr>\n",
       "      <th>4</th>\n",
       "      <td>Dapingian</td>\n",
       "      <td>Dap.</td>\n",
       "      <td>Dap.</td>\n",
       "      <td>469.42</td>\n",
       "      <td>471.26</td>\n",
       "      <td>#66C092</td>\n",
       "      <td>1.84</td>\n",
       "    </tr>\n",
       "    <tr>\n",
       "      <th>5</th>\n",
       "      <td>Floian</td>\n",
       "      <td>Flo.</td>\n",
       "      <td>Flo.</td>\n",
       "      <td>471.26</td>\n",
       "      <td>477.08</td>\n",
       "      <td>#41B087</td>\n",
       "      <td>5.82</td>\n",
       "    </tr>\n",
       "    <tr>\n",
       "      <th>6</th>\n",
       "      <td>Tremadocian</td>\n",
       "      <td>Tre.</td>\n",
       "      <td>Tremadocian</td>\n",
       "      <td>477.08</td>\n",
       "      <td>486.85</td>\n",
       "      <td>#33A97E</td>\n",
       "      <td>9.77</td>\n",
       "    </tr>\n",
       "  </tbody>\n",
       "</table>\n",
       "</div>"
      ],
      "text/plain": [
       "          label   abbr           mix     top  bottom    color      h\n",
       "0    Hirnantian   Hir.          Hir.  443.07  445.21  #A6DBAB   2.14\n",
       "1        Katian   Kat.          Kat.  445.21  452.75  #99D69F   7.54\n",
       "2      Sandbian  Sand.         Sand.  452.75  458.18  #8CD094   5.43\n",
       "3  Darriwillian  Darr.  Darriwillian  458.18  469.42  #74C69C  11.24\n",
       "4     Dapingian   Dap.          Dap.  469.42  471.26  #66C092   1.84\n",
       "5        Floian   Flo.          Flo.  471.26  477.08  #41B087   5.82\n",
       "6   Tremadocian   Tre.   Tremadocian  477.08  486.85  #33A97E   9.77"
      ]
     },
     "execution_count": 30,
     "metadata": {},
     "output_type": "execute_result"
    }
   ],
   "source": [
    "# Load Ordovician GTS2020\n",
    "chronoDf = pd.read_excel('../Data/OrdoGTS2020.xlsx')\n",
    "chronoDf.head(7)"
   ]
  },
  {
   "cell_type": "code",
   "execution_count": 53,
   "metadata": {},
   "outputs": [
    {
     "data": {
      "image/png": "[encoded data removed]",
      "text/plain": [
       "<Figure size 720x576 with 3 Axes>"
      ]
     },
     "metadata": {
      "needs_background": "light"
     },
     "output_type": "display_data"
    }
   ],
   "source": [
    "# Load sr measurement for comparison\n",
    "SrOrdo = pd.read_csv('../Data/Arbuckle_Sr.csv')\n",
    "loess = pd.read_csv('../Data/LOESS2_0.75_Gradient.csv')\n",
    "\n",
    "#Make the Plot\n",
    "fig, (ax1, ax2) = plt.subplots(2, 1, figsize=(10,8), sharex=True)\n",
    "\n",
    "ax1.plot(age, sealevel,  c='steelblue', label='Sea Level')\n",
    "ax1.set_ylabel(\"Sea Level (m)\")\n",
    "ax1.invert_xaxis()\n",
    "#ax1.legend(loc='lower left', edgecolor='None')\n",
    "\n",
    "trans = ax2.get_xaxis_transform()\n",
    "\n",
    "\n",
    "ax2.plot(age, Rsw_sl, c='steelblue', label=\"Sea Level Model\")\n",
    "ax2.scatter(SrOrdo['Age20'], SrOrdo['Sr'], c='olivedrab', label='Sr Conodont Data', alpha=0.4)\n",
    "#ax2.plot(loess['age'], loess['LOESS'], c='olivedrab', label='LOESS Curve')\n",
    "ax2.set_ylabel('Seawater $^{87}Sr/^{86}Sr$')\n",
    "ax2.set_xlabel('Age (Ma)')\n",
    "ax2.legend(loc='center left', edgecolor='None')\n",
    "\n",
    "for ind in chronoDf.index:\n",
    "    ax2.add_patch(Rectangle(xy=[chronoDf['top'][ind], 0],\n",
    "                           height=0.1,\n",
    "                           width=chronoDf['h'][ind], transform = trans,\n",
    "                           ec = 'black', fc = chronoDf['color'][ind]))\n",
    "    ax2.text(chronoDf['top'][ind]+0.5*chronoDf['h'][ind], 0.05, str(chronoDf['mix'][ind]), rotation=0,\n",
    "            horizontalalignment='center',\n",
    "            verticalalignment='center', transform = trans, fontsize = 12)\n",
    "\n",
    "ax2.set_xlim(486.85, 443.07)\n",
    "\n",
    "ax2b = ax1.twinx()\n",
    "ax2b.plot(age, Jh_sl, ls='--', c='steelblue',label=\"Model Flux\")\n",
    "ax2b.axhline(y=1.5e10, ls='--', c='gray',label=\"Present Day Flux\", alpha=0.4)\n",
    "ax2b.set_ylabel('Hydrothermal Sr Flux (mol/yr)')\n",
    "#ax2b.legend(loc='lower left', edgecolor='None')\n",
    "# ax2b.text(480, 1.5e10, 'Present Day\\nHydrothermal Flux',\n",
    "#           horizontalalignment='center',\n",
    "#           verticalalignment='top')\n",
    "\n",
    "ax2b.annotate('Present Day\\nHydrothermal Flux', xy=(475, 1.5e10), xytext=(485, 1.3e10),\n",
    "            arrowprops=dict(arrowstyle='->'))\n",
    "\n",
    "plt.savefig('../Figures/PaperFigure.png')\n",
    "plt.savefig('../Figures/PaperFigure.svg')\n",
    "plt.show()"
   ]
  },
  {
   "cell_type": "code",
   "execution_count": null,
   "metadata": {},
   "outputs": [],
   "source": []
  }
 ],
 "metadata": {
  "kernelspec": {
   "display_name": "Python 3",
   "language": "python",
   "name": "python3"
  },
  "language_info": {
   "codemirror_mode": {
    "name": "ipython",
    "version": 3
   },
   "file_extension": ".py",
   "mimetype": "text/x-python",
   "name": "python",
   "nbconvert_exporter": "python",
   "pygments_lexer": "ipython3",
   "version": "3.8.5"
  }
 },
 "nbformat": 4,
 "nbformat_minor": 4
}
