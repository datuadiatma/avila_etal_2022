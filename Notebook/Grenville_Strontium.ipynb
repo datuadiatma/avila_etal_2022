{
 "cells": [
  {
   "cell_type": "markdown",
   "metadata": {},
   "source": [
    "This notebook contains codes to estimate $^{87}Sr/^{86}Sr$ of Grenvillian-aged rocks. In addition to Hydrothermal and Taconic arcs, this geologic province is thought to be a significant source of weathering during the Ordovician."
   ]
  },
  {
   "cell_type": "code",
   "execution_count": 10,
   "metadata": {},
   "outputs": [],
   "source": [
    "# Import python modules\n",
    "import numpy as np\n",
    "import matplotlib.pyplot as plt\n",
    "import pandas as pd"
   ]
  },
  {
   "cell_type": "markdown",
   "metadata": {},
   "source": [
    "The strontium isotopic ratio at time $t$ can be calculated using this equation:\n",
    "\n",
    "$$\\left(\\frac{^{87}Sr}{^{86}Sr}\\right)_t=\\left(\\frac{^{87}Sr}{^{86}Sr}\\right)_0 + \\frac{^{87}Rb}{^{87}Sr}(e^{\\lambda t }-1)$$\n",
    "\n",
    "\n",
    "By assuming the the isotopic ratio os samples are between $0.700$ to $0.800$ we can approximate that $\\frac{^{87}Rb}{^{87}Sr} \\approx 2.89$*. Thus, the above equation can be conveniently rewritten as:\n",
    "\n",
    "$$\\left(\\frac{^{87}Sr}{^{86}Sr}\\right)_t=\\left(\\frac{^{87}Sr}{^{86}Sr}\\right)_0 + 2.89(e^{\\lambda t }-1)$$\n",
    "\n",
    "\n",
    "*see Faure and Mensing (2009) for a more detailed explanation"
   ]
  },
  {
   "cell_type": "code",
   "execution_count": 11,
   "metadata": {},
   "outputs": [],
   "source": [
    "# Function to calculate 87Sr/86Sr at time t\n",
    "def Sr_t(Sr_init, time, decay_const=1.39e-11):\n",
    "    Sr = Sr_init + (2.89 * (np.exp(decay_const*time)-1))\n",
    "    return Sr\n",
    "\n",
    "def Sr_t0(Sr_meas, time, decay_const=1.39e-11):\n",
    "    Sr = Sr_meas - (2.89 * (np.exp(decay_const*time)-1))\n",
    "    return Sr"
   ]
  },
  {
   "cell_type": "code",
   "execution_count": 12,
   "metadata": {},
   "outputs": [
    {
     "name": "stdout",
     "output_type": "stream",
     "text": [
      "Sr ratio Grenvillian granite = 0.73408\n",
      "Sr ratio Grenvillian basalt = 0.72518\n"
     ]
    }
   ],
   "source": [
    "Sr_granite_init = 0.7119\n",
    "Sr_basalt_init = 0.7030\n",
    "\n",
    "Sr_granite_ordo = Sr_t(Sr_granite_init, 5.5e8)\n",
    "Sr_basalt_ordo = Sr_t(Sr_basalt_init, 5.5e8)\n",
    "\n",
    "print('Sr ratio Grenvillian granite =', str(round(Sr_granite_ordo, 5)))\n",
    "print('Sr ratio Grenvillian basalt =', str(round(Sr_basalt_ordo, 5)))"
   ]
  },
  {
   "cell_type": "markdown",
   "metadata": {},
   "source": [
    "Sr isotopes of Grenvillian rocks from Krogh and Hurley (1968)"
   ]
  },
  {
   "cell_type": "code",
   "execution_count": 13,
   "metadata": {},
   "outputs": [
    {
     "data": {
      "text/html": [
       "<div>\n",
       "<style scoped>\n",
       "    .dataframe tbody tr th:only-of-type {\n",
       "        vertical-align: middle;\n",
       "    }\n",
       "\n",
       "    .dataframe tbody tr th {\n",
       "        vertical-align: top;\n",
       "    }\n",
       "\n",
       "    .dataframe thead th {\n",
       "        text-align: right;\n",
       "    }\n",
       "</style>\n",
       "<table border=\"1\" class=\"dataframe\">\n",
       "  <thead>\n",
       "    <tr style=\"text-align: right;\">\n",
       "      <th></th>\n",
       "      <th>SampleID</th>\n",
       "      <th>RbSr_XRF</th>\n",
       "      <th>RbSr_ID</th>\n",
       "      <th>Sr86Sr88</th>\n",
       "      <th>SrMeasured</th>\n",
       "      <th>SrCorr</th>\n",
       "      <th>LithoUnit</th>\n",
       "    </tr>\n",
       "  </thead>\n",
       "  <tbody>\n",
       "    <tr>\n",
       "      <th>0</th>\n",
       "      <td>R5138(1)N</td>\n",
       "      <td>0.898</td>\n",
       "      <td>0.916</td>\n",
       "      <td>0.1194</td>\n",
       "      <td>0.7192</td>\n",
       "      <td>0.7192</td>\n",
       "      <td>Burleigh paragneiss</td>\n",
       "    </tr>\n",
       "    <tr>\n",
       "      <th>1</th>\n",
       "      <td>R5138(2)N</td>\n",
       "      <td>12.290</td>\n",
       "      <td>12.260</td>\n",
       "      <td>0.1190</td>\n",
       "      <td>0.8935</td>\n",
       "      <td>0.8919</td>\n",
       "      <td>Burleigh paragneiss</td>\n",
       "    </tr>\n",
       "    <tr>\n",
       "      <th>2</th>\n",
       "      <td>R5138(3)N</td>\n",
       "      <td>1.890</td>\n",
       "      <td>1.930</td>\n",
       "      <td>0.1187</td>\n",
       "      <td>0.7337</td>\n",
       "      <td>0.7316</td>\n",
       "      <td>Burleigh paragneiss</td>\n",
       "    </tr>\n",
       "    <tr>\n",
       "      <th>3</th>\n",
       "      <td>R5138(6)N</td>\n",
       "      <td>6.790</td>\n",
       "      <td>6.790</td>\n",
       "      <td>0.1191</td>\n",
       "      <td>0.8154</td>\n",
       "      <td>0.8142</td>\n",
       "      <td>Burleigh paragneiss</td>\n",
       "    </tr>\n",
       "    <tr>\n",
       "      <th>4</th>\n",
       "      <td>R5140(1)S</td>\n",
       "      <td>4.570</td>\n",
       "      <td>4.620</td>\n",
       "      <td>0.1195</td>\n",
       "      <td>0.7746</td>\n",
       "      <td>0.7748</td>\n",
       "      <td>Burleigh paragneiss</td>\n",
       "    </tr>\n",
       "  </tbody>\n",
       "</table>\n",
       "</div>"
      ],
      "text/plain": [
       "    SampleID  RbSr_XRF  RbSr_ID  Sr86Sr88  SrMeasured  SrCorr  \\\n",
       "0  R5138(1)N     0.898    0.916    0.1194      0.7192  0.7192   \n",
       "1  R5138(2)N    12.290   12.260    0.1190      0.8935  0.8919   \n",
       "2  R5138(3)N     1.890    1.930    0.1187      0.7337  0.7316   \n",
       "3  R5138(6)N     6.790    6.790    0.1191      0.8154  0.8142   \n",
       "4  R5140(1)S     4.570    4.620    0.1195      0.7746  0.7748   \n",
       "\n",
       "             LithoUnit  \n",
       "0  Burleigh paragneiss  \n",
       "1  Burleigh paragneiss  \n",
       "2  Burleigh paragneiss  \n",
       "3  Burleigh paragneiss  \n",
       "4  Burleigh paragneiss  "
      ]
     },
     "execution_count": 13,
     "metadata": {},
     "output_type": "execute_result"
    }
   ],
   "source": [
    "SrGrenville = pd.read_excel(\"../Data/Grenville_KroghHurley_1968.xlsx\")\n",
    "SrGrenville.head()"
   ]
  },
  {
   "cell_type": "code",
   "execution_count": 14,
   "metadata": {},
   "outputs": [
    {
     "data": {
      "text/plain": [
       "count    64.000000\n",
       "mean      0.770022\n",
       "std       0.061153\n",
       "min       0.707600\n",
       "25%       0.726400\n",
       "50%       0.744750\n",
       "75%       0.794925\n",
       "max       0.974300\n",
       "Name: SrCorr, dtype: float64"
      ]
     },
     "execution_count": 14,
     "metadata": {},
     "output_type": "execute_result"
    }
   ],
   "source": [
    "SrGrenville['SrCorr'].describe()"
   ]
  },
  {
   "cell_type": "code",
   "execution_count": 15,
   "metadata": {},
   "outputs": [
    {
     "data": {
      "image/png": "[encoded data removed]",
      "text/plain": [
       "<Figure size 720x360 with 1 Axes>"
      ]
     },
     "metadata": {
      "needs_background": "light"
     },
     "output_type": "display_data"
    }
   ],
   "source": [
    "fig, ax = plt.subplots(figsize=(10,5))\n",
    "SrGrenville['SrCorr'].hist(ax=ax, fc='none', ec='blue')\n",
    "ax.grid(False)\n",
    "ax.set_title('Sr Isotopes of Grenvillian Rocks', fontsize=14)\n",
    "ax.set_xlabel(r'$^{87}Sr/^{86}Sr$', fontsize=12)\n",
    "plt.show()"
   ]
  },
  {
   "cell_type": "code",
   "execution_count": 30,
   "metadata": {},
   "outputs": [
    {
     "name": "stderr",
     "output_type": "stream",
     "text": [
      "C:\\Users\\datua\\Anaconda3\\envs\\pywork\\lib\\site-packages\\numpy\\core\\_asarray.py:83: VisibleDeprecationWarning: Creating an ndarray from ragged nested sequences (which is a list-or-tuple of lists-or-tuples-or ndarrays with different lengths or shapes) is deprecated. If you meant to do this, you must specify 'dtype=object' when creating the ndarray\n",
      "  return array(a, dtype, copy=False, order=order)\n"
     ]
    },
    {
     "data": {
      "image/png": "[encoded data removed]",
      "text/plain": [
       "<Figure size 1080x360 with 1 Axes>"
      ]
     },
     "metadata": {
      "needs_background": "light"
     },
     "output_type": "display_data"
    }
   ],
   "source": [
    "fig, ax = plt.subplots(figsize=(15,5))\n",
    "SrGrenville.boxplot(column=['SrCorr'], by=['LithoUnit'], ax=ax)\n",
    "\n",
    "ax.axhline(y=SrGrenville['SrCorr'].mean(), c='red', ls='--')\n",
    "ax.text(0.35,0.3,'Mean ='+str(SrGrenville['SrCorr'].mean()), transform=ax.transAxes, fontsize=12)\n",
    "xt = ax.get_xticklabels()\n",
    "ax.set_xticklabels(xt,rotation=25, ha='right')\n",
    "ax.set_xlabel('')\n",
    "ax.set_ylabel(r'$^{87}Sr/^{86}Sr$', fontsize=12)\n",
    "ax.set_title('Sr Isotopes of Grenvillian Rocks', fontsize=14)\n",
    "fig.suptitle('')\n",
    "ax.grid(False)\n",
    "plt.tight_layout()\n",
    "plt.savefig(\"../Figure/Grenville_Sr.png\")\n",
    "plt.show()"
   ]
  },
  {
   "cell_type": "code",
   "execution_count": 17,
   "metadata": {},
   "outputs": [
    {
     "data": {
      "text/plain": [
       "count    64.000000\n",
       "mean      0.751282\n",
       "std       0.061153\n",
       "min       0.688860\n",
       "25%       0.707660\n",
       "50%       0.726010\n",
       "75%       0.776185\n",
       "max       0.955560\n",
       "Name: Ordo, dtype: float64"
      ]
     },
     "execution_count": 17,
     "metadata": {},
     "output_type": "execute_result"
    }
   ],
   "source": [
    "SrGrenville['Ordo'] = Sr_t0(SrGrenville['SrCorr'], 465e6)\n",
    "SrGrenville['Ordo'].describe()"
   ]
  },
  {
   "cell_type": "code",
   "execution_count": 18,
   "metadata": {},
   "outputs": [
    {
     "data": {
      "image/png": "[encoded data removed]",
      "text/plain": [
       "<Figure size 720x360 with 1 Axes>"
      ]
     },
     "metadata": {
      "needs_background": "light"
     },
     "output_type": "display_data"
    }
   ],
   "source": [
    "fig, ax = plt.subplots(figsize=(10,5))\n",
    "SrGrenville['Ordo'].hist(ax=ax, fc='none', ec='green')\n",
    "ax.grid(False)\n",
    "ax.set_title('Sr Isotopes of Grenvillian Rocks at 465 Ma', fontsize=14)\n",
    "ax.set_xlabel(r'$^{87}Sr/^{86}Sr$', fontsize=12)\n",
    "plt.show()"
   ]
  },
  {
   "cell_type": "code",
   "execution_count": 24,
   "metadata": {},
   "outputs": [
    {
     "name": "stderr",
     "output_type": "stream",
     "text": [
      "C:\\Users\\datua\\Anaconda3\\envs\\pywork\\lib\\site-packages\\numpy\\core\\_asarray.py:83: VisibleDeprecationWarning: Creating an ndarray from ragged nested sequences (which is a list-or-tuple of lists-or-tuples-or ndarrays with different lengths or shapes) is deprecated. If you meant to do this, you must specify 'dtype=object' when creating the ndarray\n",
      "  return array(a, dtype, copy=False, order=order)\n"
     ]
    },
    {
     "data": {
      "image/png": "[encoded data removed]",
      "text/plain": [
       "<Figure size 1080x360 with 1 Axes>"
      ]
     },
     "metadata": {
      "needs_background": "light"
     },
     "output_type": "display_data"
    }
   ],
   "source": [
    "fig, ax = plt.subplots(figsize=(15,5))\n",
    "SrGrenville.boxplot(column=['Ordo'], by=['LithoUnit'], ax=ax)\n",
    "\n",
    "ax.axhline(y=SrGrenville['Ordo'].mean(), c='red', ls='--')\n",
    "ax.text(0.35,0.3,'Mean ='+str(SrGrenville['Ordo'].mean()), transform=ax.transAxes, fontsize=12)\n",
    "xt = ax.get_xticklabels()\n",
    "ax.set_xticklabels(xt,rotation=25, ha='right')\n",
    "ax.set_xlabel('')\n",
    "ax.set_ylabel(r'$^{87}Sr/^{86}Sr$', fontsize=12)\n",
    "ax.set_title('Sr Isotopes of Grenvillian Rocks at 465 Ma', fontsize=14)\n",
    "fig.suptitle('')\n",
    "ax.grid(False)\n",
    "plt.tight_layout()\n",
    "plt.savefig(\"../Figure/Grenville_Sr_Ordo.png\")\n",
    "plt.show()"
   ]
  },
  {
   "cell_type": "markdown",
   "metadata": {},
   "source": [
    "Sr isotopes or river draining the Canadian Shield from Millot et al (2002)"
   ]
  },
  {
   "cell_type": "code",
   "execution_count": 21,
   "metadata": {},
   "outputs": [
    {
     "data": {
      "text/html": [
       "<div>\n",
       "<style scoped>\n",
       "    .dataframe tbody tr th:only-of-type {\n",
       "        vertical-align: middle;\n",
       "    }\n",
       "\n",
       "    .dataframe tbody tr th {\n",
       "        vertical-align: top;\n",
       "    }\n",
       "\n",
       "    .dataframe thead th {\n",
       "        text-align: right;\n",
       "    }\n",
       "</style>\n",
       "<table border=\"1\" class=\"dataframe\">\n",
       "  <thead>\n",
       "    <tr style=\"text-align: right;\">\n",
       "      <th></th>\n",
       "      <th>Localities</th>\n",
       "      <th>Sample #</th>\n",
       "      <th>River name</th>\n",
       "      <th>Date of sampling</th>\n",
       "      <th>Water stage</th>\n",
       "      <th>SrRatio</th>\n",
       "      <th>Rb</th>\n",
       "      <th>Sr</th>\n",
       "      <th>pH</th>\n",
       "      <th>Na</th>\n",
       "      <th>...</th>\n",
       "      <th>Σ+</th>\n",
       "      <th>Cl</th>\n",
       "      <th>Clatm</th>\n",
       "      <th>NO3</th>\n",
       "      <th>SO4</th>\n",
       "      <th>HCO3</th>\n",
       "      <th>Σ−</th>\n",
       "      <th>NICB</th>\n",
       "      <th>DOC</th>\n",
       "      <th>H4SiO4</th>\n",
       "    </tr>\n",
       "  </thead>\n",
       "  <tbody>\n",
       "    <tr>\n",
       "      <th>0</th>\n",
       "      <td>Slave Province</td>\n",
       "      <td>CAN96-30</td>\n",
       "      <td>Tibbitt</td>\n",
       "      <td>1996-08-01</td>\n",
       "      <td>M</td>\n",
       "      <td>0.741165</td>\n",
       "      <td>2.06</td>\n",
       "      <td>23.44</td>\n",
       "      <td>7.40</td>\n",
       "      <td>72.0</td>\n",
       "      <td>...</td>\n",
       "      <td>595</td>\n",
       "      <td>47.0</td>\n",
       "      <td>15.0</td>\n",
       "      <td>–</td>\n",
       "      <td>34.0</td>\n",
       "      <td>426</td>\n",
       "      <td>541</td>\n",
       "      <td>9</td>\n",
       "      <td>–</td>\n",
       "      <td>6.8</td>\n",
       "    </tr>\n",
       "    <tr>\n",
       "      <th>1</th>\n",
       "      <td>Slave Province</td>\n",
       "      <td>CAN96-31</td>\n",
       "      <td>Yellowknife</td>\n",
       "      <td>1996-08-01</td>\n",
       "      <td>M</td>\n",
       "      <td>0.742449</td>\n",
       "      <td>1.92</td>\n",
       "      <td>20.25</td>\n",
       "      <td>7.08</td>\n",
       "      <td>62.0</td>\n",
       "      <td>...</td>\n",
       "      <td>409</td>\n",
       "      <td>35.0</td>\n",
       "      <td>15.0</td>\n",
       "      <td>1.42</td>\n",
       "      <td>25.0</td>\n",
       "      <td>253</td>\n",
       "      <td>339</td>\n",
       "      <td>17</td>\n",
       "      <td>5.4</td>\n",
       "      <td>4.3</td>\n",
       "    </tr>\n",
       "    <tr>\n",
       "      <th>2</th>\n",
       "      <td>Slave Province</td>\n",
       "      <td>CAN99-84</td>\n",
       "      <td>Wecho</td>\n",
       "      <td>1999-06-01</td>\n",
       "      <td>H</td>\n",
       "      <td>0.744591</td>\n",
       "      <td>2.37</td>\n",
       "      <td>21.11</td>\n",
       "      <td>6.71</td>\n",
       "      <td>74.8</td>\n",
       "      <td>...</td>\n",
       "      <td>423</td>\n",
       "      <td>44.3</td>\n",
       "      <td>15.0</td>\n",
       "      <td>0.46</td>\n",
       "      <td>12.8</td>\n",
       "      <td>225</td>\n",
       "      <td>296</td>\n",
       "      <td>30</td>\n",
       "      <td>–</td>\n",
       "      <td>6</td>\n",
       "    </tr>\n",
       "    <tr>\n",
       "      <th>3</th>\n",
       "      <td>Slave Province</td>\n",
       "      <td>CAN99-85</td>\n",
       "      <td>Emile</td>\n",
       "      <td>1999-06-01</td>\n",
       "      <td>H</td>\n",
       "      <td>0.748742</td>\n",
       "      <td>1.74</td>\n",
       "      <td>15.24</td>\n",
       "      <td>6.81</td>\n",
       "      <td>55.8</td>\n",
       "      <td>...</td>\n",
       "      <td>491</td>\n",
       "      <td>19.7</td>\n",
       "      <td>15.0</td>\n",
       "      <td>1.32</td>\n",
       "      <td>22.3</td>\n",
       "      <td>350</td>\n",
       "      <td>416</td>\n",
       "      <td>15</td>\n",
       "      <td>–</td>\n",
       "      <td>2.2</td>\n",
       "    </tr>\n",
       "    <tr>\n",
       "      <th>4</th>\n",
       "      <td>Slave Province</td>\n",
       "      <td>CAN99-86</td>\n",
       "      <td>Wopmay</td>\n",
       "      <td>1999-06-01</td>\n",
       "      <td>H</td>\n",
       "      <td>0.751712</td>\n",
       "      <td>1.51</td>\n",
       "      <td>9.23</td>\n",
       "      <td>6.84</td>\n",
       "      <td>34.9</td>\n",
       "      <td>...</td>\n",
       "      <td>433</td>\n",
       "      <td>14.1</td>\n",
       "      <td>14.1</td>\n",
       "      <td>0.91</td>\n",
       "      <td>21.2</td>\n",
       "      <td>330</td>\n",
       "      <td>387</td>\n",
       "      <td>11</td>\n",
       "      <td>–</td>\n",
       "      <td>0.8</td>\n",
       "    </tr>\n",
       "    <tr>\n",
       "      <th>5</th>\n",
       "      <td>Slave Province</td>\n",
       "      <td>CAN99-87</td>\n",
       "      <td>Indin</td>\n",
       "      <td>1999-06-01</td>\n",
       "      <td>H</td>\n",
       "      <td>0.741174</td>\n",
       "      <td>1.77</td>\n",
       "      <td>10.46</td>\n",
       "      <td>6.67</td>\n",
       "      <td>32.0</td>\n",
       "      <td>...</td>\n",
       "      <td>217</td>\n",
       "      <td>13.5</td>\n",
       "      <td>13.5</td>\n",
       "      <td>1.07</td>\n",
       "      <td>14.5</td>\n",
       "      <td>100</td>\n",
       "      <td>144</td>\n",
       "      <td>34</td>\n",
       "      <td>–</td>\n",
       "      <td>1.1</td>\n",
       "    </tr>\n",
       "    <tr>\n",
       "      <th>6</th>\n",
       "      <td>Slave Province</td>\n",
       "      <td>CAN99-88</td>\n",
       "      <td>Mc Crea</td>\n",
       "      <td>1999-06-01</td>\n",
       "      <td>H</td>\n",
       "      <td>0.749644</td>\n",
       "      <td>1.88</td>\n",
       "      <td>13.35</td>\n",
       "      <td>6.73</td>\n",
       "      <td>54.0</td>\n",
       "      <td>...</td>\n",
       "      <td>304</td>\n",
       "      <td>34.7</td>\n",
       "      <td>15.0</td>\n",
       "      <td>–</td>\n",
       "      <td>24.8</td>\n",
       "      <td>180</td>\n",
       "      <td>264</td>\n",
       "      <td>13</td>\n",
       "      <td>–</td>\n",
       "      <td>–</td>\n",
       "    </tr>\n",
       "    <tr>\n",
       "      <th>7</th>\n",
       "      <td>Slave Province</td>\n",
       "      <td>CAN99-89</td>\n",
       "      <td>Beaulieu</td>\n",
       "      <td>1999-06-01</td>\n",
       "      <td>H</td>\n",
       "      <td>0.735792</td>\n",
       "      <td>1.86</td>\n",
       "      <td>23.15</td>\n",
       "      <td>6.74</td>\n",
       "      <td>97.4</td>\n",
       "      <td>...</td>\n",
       "      <td>549</td>\n",
       "      <td>78.1</td>\n",
       "      <td>15.0</td>\n",
       "      <td>–</td>\n",
       "      <td>27.7</td>\n",
       "      <td>299</td>\n",
       "      <td>432</td>\n",
       "      <td>21</td>\n",
       "      <td>–</td>\n",
       "      <td>4.6</td>\n",
       "    </tr>\n",
       "    <tr>\n",
       "      <th>8</th>\n",
       "      <td>Slave Province</td>\n",
       "      <td>CAN99-90</td>\n",
       "      <td>Yellowknife</td>\n",
       "      <td>1999-06-01</td>\n",
       "      <td>H</td>\n",
       "      <td>0.742001</td>\n",
       "      <td>1.86</td>\n",
       "      <td>19.71</td>\n",
       "      <td>6.80</td>\n",
       "      <td>73.6</td>\n",
       "      <td>...</td>\n",
       "      <td>439</td>\n",
       "      <td>46.5</td>\n",
       "      <td>15.0</td>\n",
       "      <td>0.55</td>\n",
       "      <td>25.0</td>\n",
       "      <td>310</td>\n",
       "      <td>407</td>\n",
       "      <td>7</td>\n",
       "      <td>–</td>\n",
       "      <td>2.7</td>\n",
       "    </tr>\n",
       "    <tr>\n",
       "      <th>9</th>\n",
       "      <td>Slave Province</td>\n",
       "      <td>CAN99-91</td>\n",
       "      <td>Cameroon</td>\n",
       "      <td>1999-06-01</td>\n",
       "      <td>H</td>\n",
       "      <td>0.741921</td>\n",
       "      <td>2.43</td>\n",
       "      <td>26.77</td>\n",
       "      <td>6.97</td>\n",
       "      <td>86.4</td>\n",
       "      <td>...</td>\n",
       "      <td>669</td>\n",
       "      <td>57.3</td>\n",
       "      <td>15.0</td>\n",
       "      <td>0.18</td>\n",
       "      <td>38.9</td>\n",
       "      <td>470</td>\n",
       "      <td>605</td>\n",
       "      <td>10</td>\n",
       "      <td>–</td>\n",
       "      <td>0.2</td>\n",
       "    </tr>\n",
       "    <tr>\n",
       "      <th>10</th>\n",
       "      <td>Slave Province</td>\n",
       "      <td>CAN99-92</td>\n",
       "      <td>Tibbitt</td>\n",
       "      <td>1999-06-01</td>\n",
       "      <td>H</td>\n",
       "      <td>0.743080</td>\n",
       "      <td>2.37</td>\n",
       "      <td>24.89</td>\n",
       "      <td>6.97</td>\n",
       "      <td>79.2</td>\n",
       "      <td>...</td>\n",
       "      <td>622</td>\n",
       "      <td>54.4</td>\n",
       "      <td>15.0</td>\n",
       "      <td>0.28</td>\n",
       "      <td>38.4</td>\n",
       "      <td>430</td>\n",
       "      <td>562</td>\n",
       "      <td>10</td>\n",
       "      <td>–</td>\n",
       "      <td>–</td>\n",
       "    </tr>\n",
       "    <tr>\n",
       "      <th>11</th>\n",
       "      <td>Slave Province</td>\n",
       "      <td>CAN99-94</td>\n",
       "      <td>Stagg</td>\n",
       "      <td>1999-06-01</td>\n",
       "      <td>H</td>\n",
       "      <td>0.737279</td>\n",
       "      <td>1.88</td>\n",
       "      <td>44.24</td>\n",
       "      <td>7.17</td>\n",
       "      <td>169.1</td>\n",
       "      <td>...</td>\n",
       "      <td>1026</td>\n",
       "      <td>94.8</td>\n",
       "      <td>15.0</td>\n",
       "      <td>–</td>\n",
       "      <td>22.8</td>\n",
       "      <td>731</td>\n",
       "      <td>871</td>\n",
       "      <td>15</td>\n",
       "      <td>–</td>\n",
       "      <td>10.2</td>\n",
       "    </tr>\n",
       "    <tr>\n",
       "      <th>12</th>\n",
       "      <td>Slave Province</td>\n",
       "      <td>CAN99-95</td>\n",
       "      <td>Boundary Creek</td>\n",
       "      <td>1999-06-01</td>\n",
       "      <td>H</td>\n",
       "      <td>0.734562</td>\n",
       "      <td>2.74</td>\n",
       "      <td>51.01</td>\n",
       "      <td>7.16</td>\n",
       "      <td>185.9</td>\n",
       "      <td>...</td>\n",
       "      <td>1149</td>\n",
       "      <td>130.0</td>\n",
       "      <td>15.0</td>\n",
       "      <td>–</td>\n",
       "      <td>10.4</td>\n",
       "      <td>739</td>\n",
       "      <td>890</td>\n",
       "      <td>23</td>\n",
       "      <td>–</td>\n",
       "      <td>3.2</td>\n",
       "    </tr>\n",
       "    <tr>\n",
       "      <th>13</th>\n",
       "      <td>Grenville Province</td>\n",
       "      <td>CAN95-3</td>\n",
       "      <td>Gattineau</td>\n",
       "      <td>1995-09-01</td>\n",
       "      <td>M</td>\n",
       "      <td>0.710754</td>\n",
       "      <td>1.41</td>\n",
       "      <td>25.68</td>\n",
       "      <td>6.83</td>\n",
       "      <td>38.3</td>\n",
       "      <td>...</td>\n",
       "      <td>229</td>\n",
       "      <td>13.3</td>\n",
       "      <td>13.3</td>\n",
       "      <td>4.86</td>\n",
       "      <td>47.0</td>\n",
       "      <td>165</td>\n",
       "      <td>278</td>\n",
       "      <td>−21</td>\n",
       "      <td>–</td>\n",
       "      <td>–</td>\n",
       "    </tr>\n",
       "    <tr>\n",
       "      <th>14</th>\n",
       "      <td>Grenville Province</td>\n",
       "      <td>CAN95-7</td>\n",
       "      <td>Saguenay</td>\n",
       "      <td>1995-09-01</td>\n",
       "      <td>M</td>\n",
       "      <td>0.713138</td>\n",
       "      <td>1.01</td>\n",
       "      <td>16.33</td>\n",
       "      <td>6.96</td>\n",
       "      <td>45.6</td>\n",
       "      <td>...</td>\n",
       "      <td>198</td>\n",
       "      <td>17.3</td>\n",
       "      <td>17.3</td>\n",
       "      <td>6.39</td>\n",
       "      <td>16.0</td>\n",
       "      <td>138</td>\n",
       "      <td>194</td>\n",
       "      <td>2</td>\n",
       "      <td>–</td>\n",
       "      <td>–</td>\n",
       "    </tr>\n",
       "  </tbody>\n",
       "</table>\n",
       "<p>15 rows × 25 columns</p>\n",
       "</div>"
      ],
      "text/plain": [
       "            Localities  Sample #      River name Date of sampling Water stage  \\\n",
       "0       Slave Province  CAN96-30         Tibbitt       1996-08-01           M   \n",
       "1       Slave Province  CAN96-31     Yellowknife       1996-08-01           M   \n",
       "2       Slave Province  CAN99-84           Wecho       1999-06-01           H   \n",
       "3       Slave Province  CAN99-85           Emile       1999-06-01           H   \n",
       "4       Slave Province  CAN99-86          Wopmay       1999-06-01           H   \n",
       "5       Slave Province  CAN99-87           Indin       1999-06-01           H   \n",
       "6       Slave Province  CAN99-88         Mc Crea       1999-06-01           H   \n",
       "7       Slave Province  CAN99-89        Beaulieu       1999-06-01           H   \n",
       "8       Slave Province  CAN99-90     Yellowknife       1999-06-01           H   \n",
       "9       Slave Province  CAN99-91        Cameroon       1999-06-01           H   \n",
       "10      Slave Province  CAN99-92         Tibbitt       1999-06-01           H   \n",
       "11      Slave Province  CAN99-94           Stagg       1999-06-01           H   \n",
       "12      Slave Province  CAN99-95  Boundary Creek       1999-06-01           H   \n",
       "13  Grenville Province   CAN95-3       Gattineau       1995-09-01           M   \n",
       "14  Grenville Province   CAN95-7        Saguenay       1995-09-01           M   \n",
       "\n",
       "     SrRatio    Rb     Sr    pH     Na  ...    Σ+     Cl  Clatm   NO3   SO4  \\\n",
       "0   0.741165  2.06  23.44  7.40   72.0  ...   595   47.0   15.0     –  34.0   \n",
       "1   0.742449  1.92  20.25  7.08   62.0  ...   409   35.0   15.0  1.42  25.0   \n",
       "2   0.744591  2.37  21.11  6.71   74.8  ...   423   44.3   15.0  0.46  12.8   \n",
       "3   0.748742  1.74  15.24  6.81   55.8  ...   491   19.7   15.0  1.32  22.3   \n",
       "4   0.751712  1.51   9.23  6.84   34.9  ...   433   14.1   14.1  0.91  21.2   \n",
       "5   0.741174  1.77  10.46  6.67   32.0  ...   217   13.5   13.5  1.07  14.5   \n",
       "6   0.749644  1.88  13.35  6.73   54.0  ...   304   34.7   15.0     –  24.8   \n",
       "7   0.735792  1.86  23.15  6.74   97.4  ...   549   78.1   15.0     –  27.7   \n",
       "8   0.742001  1.86  19.71  6.80   73.6  ...   439   46.5   15.0  0.55  25.0   \n",
       "9   0.741921  2.43  26.77  6.97   86.4  ...   669   57.3   15.0  0.18  38.9   \n",
       "10  0.743080  2.37  24.89  6.97   79.2  ...   622   54.4   15.0  0.28  38.4   \n",
       "11  0.737279  1.88  44.24  7.17  169.1  ...  1026   94.8   15.0     –  22.8   \n",
       "12  0.734562  2.74  51.01  7.16  185.9  ...  1149  130.0   15.0     –  10.4   \n",
       "13  0.710754  1.41  25.68  6.83   38.3  ...   229   13.3   13.3  4.86  47.0   \n",
       "14  0.713138  1.01  16.33  6.96   45.6  ...   198   17.3   17.3  6.39  16.0   \n",
       "\n",
       "    HCO3   Σ−  NICB  DOC  H4SiO4  \n",
       "0    426  541     9    –     6.8  \n",
       "1    253  339    17  5.4     4.3  \n",
       "2    225  296    30    –       6  \n",
       "3    350  416    15    –     2.2  \n",
       "4    330  387    11    –     0.8  \n",
       "5    100  144    34    –     1.1  \n",
       "6    180  264    13    –       –  \n",
       "7    299  432    21    –     4.6  \n",
       "8    310  407     7    –     2.7  \n",
       "9    470  605    10    –     0.2  \n",
       "10   430  562    10    –       –  \n",
       "11   731  871    15    –    10.2  \n",
       "12   739  890    23    –     3.2  \n",
       "13   165  278   −21    –       –  \n",
       "14   138  194     2    –       –  \n",
       "\n",
       "[15 rows x 25 columns]"
      ]
     },
     "execution_count": 21,
     "metadata": {},
     "output_type": "execute_result"
    }
   ],
   "source": [
    "SrRiver = pd.read_excel(\"../Data/RiverSr_CanadianShield_Millot_etal_2002.xlsx\")\n",
    "SrRiver.head(15)"
   ]
  },
  {
   "cell_type": "markdown",
   "metadata": {},
   "source": [
    "Estimate Sr Ratio during the Ordovician"
   ]
  },
  {
   "cell_type": "code",
   "execution_count": 79,
   "metadata": {},
   "outputs": [],
   "source": [
    "SrRiver['Ordo'] = Sr_t0(SrRiver['SrRatio'], 465e6)"
   ]
  },
  {
   "cell_type": "code",
   "execution_count": 80,
   "metadata": {},
   "outputs": [
    {
     "data": {
      "text/plain": [
       "count    13.000000\n",
       "mean      0.742624\n",
       "std       0.005154\n",
       "min       0.734562\n",
       "25%       0.741165\n",
       "50%       0.742001\n",
       "75%       0.744591\n",
       "max       0.751712\n",
       "Name: SrRatio, dtype: float64"
      ]
     },
     "execution_count": 80,
     "metadata": {},
     "output_type": "execute_result"
    }
   ],
   "source": [
    "SrRiverArchean = SrRiver[SrRiver['Localities']=='Slave Province']\n",
    "SrRiverArchean['SrRatio'].describe()"
   ]
  },
  {
   "cell_type": "code",
   "execution_count": 81,
   "metadata": {},
   "outputs": [
    {
     "data": {
      "text/plain": [
       "count    13.000000\n",
       "mean      0.723884\n",
       "std       0.005154\n",
       "min       0.715822\n",
       "25%       0.722425\n",
       "50%       0.723261\n",
       "75%       0.725851\n",
       "max       0.732972\n",
       "Name: Ordo, dtype: float64"
      ]
     },
     "execution_count": 81,
     "metadata": {},
     "output_type": "execute_result"
    }
   ],
   "source": [
    "SrRiverArchean['Ordo'].describe()"
   ]
  },
  {
   "cell_type": "code",
   "execution_count": 82,
   "metadata": {},
   "outputs": [
    {
     "data": {
      "text/plain": [
       "count    15.000000\n",
       "mean      0.712320\n",
       "std       0.002041\n",
       "min       0.709821\n",
       "25%       0.710581\n",
       "50%       0.712213\n",
       "75%       0.713544\n",
       "max       0.715503\n",
       "Name: SrRatio, dtype: float64"
      ]
     },
     "execution_count": 82,
     "metadata": {},
     "output_type": "execute_result"
    }
   ],
   "source": [
    "SrRiverGrenville = SrRiver[SrRiver['Localities']=='Grenville Province']\n",
    "SrRiverGrenville['SrRatio'].describe()"
   ]
  },
  {
   "cell_type": "code",
   "execution_count": 83,
   "metadata": {},
   "outputs": [
    {
     "data": {
      "text/plain": [
       "count    15.000000\n",
       "mean      0.693580\n",
       "std       0.002041\n",
       "min       0.691081\n",
       "25%       0.691840\n",
       "50%       0.693473\n",
       "75%       0.694804\n",
       "max       0.696763\n",
       "Name: Ordo, dtype: float64"
      ]
     },
     "execution_count": 83,
     "metadata": {},
     "output_type": "execute_result"
    }
   ],
   "source": [
    "SrRiverGrenville['Ordo'].describe()"
   ]
  },
  {
   "cell_type": "code",
   "execution_count": 85,
   "metadata": {},
   "outputs": [
    {
     "name": "stderr",
     "output_type": "stream",
     "text": [
      "C:\\Users\\datua\\Anaconda3\\envs\\pywork\\lib\\site-packages\\numpy\\core\\_asarray.py:83: VisibleDeprecationWarning: Creating an ndarray from ragged nested sequences (which is a list-or-tuple of lists-or-tuples-or ndarrays with different lengths or shapes) is deprecated. If you meant to do this, you must specify 'dtype=object' when creating the ndarray\n",
      "  return array(a, dtype, copy=False, order=order)\n",
      "C:\\Users\\datua\\Anaconda3\\envs\\pywork\\lib\\site-packages\\numpy\\core\\_asarray.py:83: VisibleDeprecationWarning: Creating an ndarray from ragged nested sequences (which is a list-or-tuple of lists-or-tuples-or ndarrays with different lengths or shapes) is deprecated. If you meant to do this, you must specify 'dtype=object' when creating the ndarray\n",
      "  return array(a, dtype, copy=False, order=order)\n"
     ]
    },
    {
     "data": {
      "image/png": "[encoded data removed]",
      "text/plain": [
       "<Figure size 1080x360 with 2 Axes>"
      ]
     },
     "metadata": {
      "needs_background": "light"
     },
     "output_type": "display_data"
    }
   ],
   "source": [
    "fig, (ax1, ax2) = plt.subplots(1, 2, figsize=(15,5), sharey=True)\n",
    "\n",
    "SrRiver.boxplot(column=['SrRatio'], by=['Localities'], ax=ax1)\n",
    "\n",
    "\n",
    "ax1.set_xlabel('')\n",
    "ax1.set_ylabel(r'$^{87}Sr/^{86}Sr$', fontsize=12)\n",
    "ax1.grid(False)\n",
    "\n",
    "SrRiver.boxplot(column=['Ordo'], by=['Localities'], ax=ax2)\n",
    "\n",
    "\n",
    "ax2.set_xlabel('')\n",
    "ax2.grid(False)\n",
    "\n",
    "fig.suptitle('Sr Isotope of River Water')\n",
    "\n",
    "plt.show()"
   ]
  }
 ],
 "metadata": {
  "kernelspec": {
   "display_name": "Python 3",
   "language": "python",
   "name": "python3"
  },
  "language_info": {
   "codemirror_mode": {
    "name": "ipython",
    "version": 3
   },
   "file_extension": ".py",
   "mimetype": "text/x-python",
   "name": "python",
   "nbconvert_exporter": "python",
   "pygments_lexer": "ipython3",
   "version": "3.8.5"
  }
 },
 "nbformat": 4,
 "nbformat_minor": 4
}
